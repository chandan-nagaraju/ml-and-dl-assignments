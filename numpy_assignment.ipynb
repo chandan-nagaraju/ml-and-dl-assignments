{
  "nbformat": 4,
  "nbformat_minor": 0,
  "metadata": {
    "colab": {
      "name": "numpy_assignment.ipynb",
      "provenance": [],
      "authorship_tag": "ABX9TyObOMdDVe92Qb61Him9SQro",
      "include_colab_link": true
    },
    "kernelspec": {
      "name": "python3",
      "display_name": "Python 3"
    }
  },
  "cells": [
    {
      "cell_type": "markdown",
      "metadata": {
        "id": "view-in-github",
        "colab_type": "text"
      },
      "source": [
        "<a href=\"https://colab.research.google.com/github/chandan-nagaraju/ml-and-dl-assignments/blob/main/numpy_assignment.ipynb\" target=\"_parent\"><img src=\"https://colab.research.google.com/assets/colab-badge.svg\" alt=\"Open In Colab\"/></a>"
      ]
    },
    {
      "cell_type": "markdown",
      "metadata": {
        "id": "bIvt_Ib4uwzQ"
      },
      "source": [
        "Write a function to find moving average in an array over a window:\r\n",
        "Test it over [3, 5, 7, 2, 8, 10, 11, 65, 72, 81, 99, 100, 150] and window of 3."
      ]
    },
    {
      "cell_type": "code",
      "metadata": {
        "id": "gqmeNzAsWaTS"
      },
      "source": [
        "def mov_avg_val(lst,k):\r\n",
        "  adding=[0]\r\n",
        "  moving_avg=[]\r\n",
        "  for i , j in enumerate(lst,1):\r\n",
        "    adding.append(adding[i-1]+j)\r\n",
        "    if i >=k:\r\n",
        "      moving_av=round(((cumsum[i]-cumsum[i-k])/k),2)\r\n",
        "      moving_avg.append(moving_av)\r\n",
        "  print(moving_avg)\r\n",
        "  \r\n"
      ],
      "execution_count": 6,
      "outputs": []
    },
    {
      "cell_type": "code",
      "metadata": {
        "colab": {
          "base_uri": "https://localhost:8080/"
        },
        "id": "cbPAjKDSr-Yo",
        "outputId": "690bad69-b7c8-48ec-8f82-66e805a44787"
      },
      "source": [
        "lst=[3, 5, 7, 2, 8, 10, 11, 65, 72, 81, 99, 100, 150]\r\n",
        "k=3\r\n",
        "mov_avg_val(lst,k)"
      ],
      "execution_count": 7,
      "outputs": [
        {
          "output_type": "stream",
          "text": [
            "[5.0, 4.67, 5.67, 6.67, 9.67, 28.67, 49.33, 72.67, 84.0, 93.33, 116.33]\n"
          ],
          "name": "stdout"
        }
      ]
    },
    {
      "cell_type": "code",
      "metadata": {
        "id": "Q7tBIPa0sDsc"
      },
      "source": [
        "cumsum=[0]"
      ],
      "execution_count": 13,
      "outputs": []
    },
    {
      "cell_type": "code",
      "metadata": {
        "id": "xY6yHWLtt86v"
      },
      "source": [
        ""
      ],
      "execution_count": 12,
      "outputs": []
    },
    {
      "cell_type": "code",
      "metadata": {
        "id": "AlBFmqFcuCLF"
      },
      "source": [
        ""
      ],
      "execution_count": null,
      "outputs": []
    }
  ]
}