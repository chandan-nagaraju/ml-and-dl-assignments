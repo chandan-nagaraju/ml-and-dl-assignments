{
  "nbformat": 4,
  "nbformat_minor": 0,
  "metadata": {
    "colab": {
      "name": "python assignment 2.ipynb",
      "provenance": [],
      "authorship_tag": "ABX9TyNAQoXR76AciekIA8BadciE",
      "include_colab_link": true
    },
    "kernelspec": {
      "name": "python3",
      "display_name": "Python 3"
    }
  },
  "cells": [
    {
      "cell_type": "markdown",
      "metadata": {
        "id": "view-in-github",
        "colab_type": "text"
      },
      "source": [
        "<a href=\"https://colab.research.google.com/github/chandan-nagaraju/python_assignments/blob/main/python_assignment_2.ipynb\" target=\"_parent\"><img src=\"https://colab.research.google.com/assets/colab-badge.svg\" alt=\"Open In Colab\"/></a>"
      ]
    },
    {
      "cell_type": "code",
      "metadata": {
        "colab": {
          "base_uri": "https://localhost:8080/"
        },
        "id": "lr1QSE-zb-H-",
        "outputId": "b7c1754b-366b-48ed-e7b3-4a2d89e1ed82"
      },
      "source": [
        "c=5\r\n",
        "for i in range(c):\r\n",
        "  for j in range(i):\r\n",
        "    print('*', end=' ')\r\n",
        "  print(' ')\r\n",
        "for i in range(c,0,-1):\r\n",
        "  for j in range(i):\r\n",
        "    print('*', end=' ')\r\n",
        "  print(' ')\r\n"
      ],
      "execution_count": 1,
      "outputs": [
        {
          "output_type": "stream",
          "text": [
            " \n",
            "*  \n",
            "* *  \n",
            "* * *  \n",
            "* * * *  \n",
            "* * * * *  \n",
            "* * * *  \n",
            "* * *  \n",
            "* *  \n",
            "*  \n"
          ],
          "name": "stdout"
        }
      ]
    },
    {
      "cell_type": "markdown",
      "metadata": {
        "id": "W4BJZNuGc1oI"
      },
      "source": [
        "# 2. Write a Python program to reverse a word after accepting the input from the user.\r\n",
        "\r\n",
        "Input word: ineuron\r\n",
        "\r\n",
        "Output: norueni"
      ]
    },
    {
      "cell_type": "code",
      "metadata": {
        "colab": {
          "base_uri": "https://localhost:8080/",
          "height": 52
        },
        "id": "LpPunZ6ncpCm",
        "outputId": "0c51d7bd-276d-4a81-baf3-3fa0237c43dc"
      },
      "source": [
        "name=input(\"enter the name :\")\r\n",
        "name[::-1]"
      ],
      "execution_count": 2,
      "outputs": [
        {
          "output_type": "stream",
          "text": [
            "enter the name :chandan\n"
          ],
          "name": "stdout"
        },
        {
          "output_type": "execute_result",
          "data": {
            "application/vnd.google.colaboratory.intrinsic+json": {
              "type": "string"
            },
            "text/plain": [
              "'nadnahc'"
            ]
          },
          "metadata": {
            "tags": []
          },
          "execution_count": 2
        }
      ]
    },
    {
      "cell_type": "code",
      "metadata": {
        "id": "_k_peqzvdPqn"
      },
      "source": [
        ""
      ],
      "execution_count": null,
      "outputs": []
    }
  ]
}