{
  "nbformat": 4,
  "nbformat_minor": 5,
  "metadata": {
    "kernelspec": {
      "display_name": "Python 3",
      "language": "python",
      "name": "python3"
    },
    "language_info": {
      "codemirror_mode": {
        "name": "ipython",
        "version": 3
      },
      "file_extension": ".py",
      "mimetype": "text/x-python",
      "name": "python",
      "nbconvert_exporter": "python",
      "pygments_lexer": "ipython3",
      "version": "3.6.12"
    },
    "colab": {
      "name": "python assignment.ipynb",
      "provenance": [],
      "include_colab_link": true
    }
  },
  "cells": [
    {
      "cell_type": "markdown",
      "metadata": {
        "id": "view-in-github",
        "colab_type": "text"
      },
      "source": [
        "<a href=\"https://colab.research.google.com/github/chandan-nagaraju/python_assignments/blob/main/python_assignment.ipynb\" target=\"_parent\"><img src=\"https://colab.research.google.com/assets/colab-badge.svg\" alt=\"Open In Colab\"/></a>"
      ]
    },
    {
      "cell_type": "markdown",
      "metadata": {
        "id": "biblical-connection"
      },
      "source": [
        "1. Write a program which will find all such numbers which are divisible by 7 but are not a multiple of 5, between 2000 and 3200 (both included). The numbers obtained should be printed in a comma-separated sequence on a single line"
      ],
      "id": "biblical-connection"
    },
    {
      "cell_type": "code",
      "metadata": {
        "colab": {
          "base_uri": "https://localhost:8080/"
        },
        "id": "stretch-savings",
        "outputId": "6b641bd8-a3ec-4121-d90a-18cbb66369f2"
      },
      "source": [
        "list=[]\n",
        "for i in range(2000,3200,1):\n",
        "    if(i%7==0) & (i%5!=0):\n",
        "        list.append(i)\n",
        "print(list)"
      ],
      "id": "stretch-savings",
      "execution_count": null,
      "outputs": [
        {
          "output_type": "stream",
          "text": [
            "[2002, 2009, 2016, 2023, 2037, 2044, 2051, 2058, 2072, 2079, 2086, 2093, 2107, 2114, 2121, 2128, 2142, 2149, 2156, 2163, 2177, 2184, 2191, 2198, 2212, 2219, 2226, 2233, 2247, 2254, 2261, 2268, 2282, 2289, 2296, 2303, 2317, 2324, 2331, 2338, 2352, 2359, 2366, 2373, 2387, 2394, 2401, 2408, 2422, 2429, 2436, 2443, 2457, 2464, 2471, 2478, 2492, 2499, 2506, 2513, 2527, 2534, 2541, 2548, 2562, 2569, 2576, 2583, 2597, 2604, 2611, 2618, 2632, 2639, 2646, 2653, 2667, 2674, 2681, 2688, 2702, 2709, 2716, 2723, 2737, 2744, 2751, 2758, 2772, 2779, 2786, 2793, 2807, 2814, 2821, 2828, 2842, 2849, 2856, 2863, 2877, 2884, 2891, 2898, 2912, 2919, 2926, 2933, 2947, 2954, 2961, 2968, 2982, 2989, 2996, 3003, 3017, 3024, 3031, 3038, 3052, 3059, 3066, 3073, 3087, 3094, 3101, 3108, 3122, 3129, 3136, 3143, 3157, 3164, 3171, 3178, 3192, 3199]\n"
          ],
          "name": "stdout"
        }
      ]
    },
    {
      "cell_type": "markdown",
      "metadata": {
        "id": "killing-ability"
      },
      "source": [
        "2. Write a Python program to accept the user's first and last name and then getting them printed in the the reverse order with a space between first name and last name."
      ],
      "id": "killing-ability"
    },
    {
      "cell_type": "code",
      "metadata": {
        "colab": {
          "base_uri": "https://localhost:8080/"
        },
        "id": "sweet-still",
        "outputId": "6972ebe1-b211-4057-83a3-773656767008"
      },
      "source": [
        "first_name= input(\"enter your first name:\")\n",
        "last_name=input(\"enter your last name:\")\n",
        "print(last_name+ \" \" + first_name)"
      ],
      "id": "sweet-still",
      "execution_count": null,
      "outputs": [
        {
          "output_type": "stream",
          "text": [
            "enter your first name:CHANDAN\n",
            "enter your last name:NAGARAJ\n",
            "NAGARAJ CHANDAN\n"
          ],
          "name": "stdout"
        }
      ]
    },
    {
      "cell_type": "markdown",
      "metadata": {
        "id": "greatest-split"
      },
      "source": [
        "3. Write a Python program to find the volume of a sphere with diameter 12 cm\n",
        "\n",
        "Formula: V=4/3 * π * r 3"
      ],
      "id": "greatest-split"
    },
    {
      "cell_type": "code",
      "metadata": {
        "id": "strong-isaac"
      },
      "source": [
        "import math\n",
        "def volume_of_sphere(r):\n",
        "    return (4/3*math.pi*r**3)"
      ],
      "id": "strong-isaac",
      "execution_count": null,
      "outputs": []
    },
    {
      "cell_type": "code",
      "metadata": {
        "colab": {
          "base_uri": "https://localhost:8080/"
        },
        "id": "impressive-noise",
        "outputId": "ee508db7-a2bf-4835-ca44-6522beaa60c1"
      },
      "source": [
        "volume_of_sphere(6)"
      ],
      "id": "impressive-noise",
      "execution_count": null,
      "outputs": [
        {
          "output_type": "execute_result",
          "data": {
            "text/plain": [
              "904.7786842338603"
            ]
          },
          "metadata": {
            "tags": []
          },
          "execution_count": 4
        }
      ]
    },
    {
      "cell_type": "markdown",
      "metadata": {
        "id": "FRIGEQEctz04"
      },
      "source": [
        "## OR"
      ],
      "id": "FRIGEQEctz04"
    },
    {
      "cell_type": "code",
      "metadata": {
        "id": "insured-edition",
        "colab": {
          "base_uri": "https://localhost:8080/"
        },
        "outputId": "98bffc22-7440-4352-c44b-8195f5d4d914"
      },
      "source": [
        "d=12\r\n",
        "r=d/2\r\n",
        "V=4/3 * math.pi * r**3\r\n",
        "print(V)"
      ],
      "id": "insured-edition",
      "execution_count": null,
      "outputs": [
        {
          "output_type": "stream",
          "text": [
            "904.7786842338603\n"
          ],
          "name": "stdout"
        }
      ]
    },
    {
      "cell_type": "code",
      "metadata": {
        "id": "creative-tuition"
      },
      "source": [
        ""
      ],
      "id": "creative-tuition",
      "execution_count": null,
      "outputs": []
    }
  ]
}