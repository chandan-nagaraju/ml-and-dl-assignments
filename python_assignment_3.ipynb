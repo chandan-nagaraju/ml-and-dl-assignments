{
  "nbformat": 4,
  "nbformat_minor": 0,
  "metadata": {
    "colab": {
      "name": "python assignment3.ipynb",
      "provenance": [],
      "authorship_tag": "ABX9TyMTuFl5hAOwnLGNgKFgPFQs",
      "include_colab_link": true
    },
    "kernelspec": {
      "name": "python3",
      "display_name": "Python 3"
    }
  },
  "cells": [
    {
      "cell_type": "markdown",
      "metadata": {
        "id": "view-in-github",
        "colab_type": "text"
      },
      "source": [
        "<a href=\"https://colab.research.google.com/github/chandan-nagaraju/python_assignments/blob/main/python_assignment3.ipynb\" target=\"_parent\"><img src=\"https://colab.research.google.com/assets/colab-badge.svg\" alt=\"Open In Colab\"/></a>"
      ]
    },
    {
      "cell_type": "markdown",
      "metadata": {
        "id": "m66etbs9HRqF"
      },
      "source": [
        "1.Write a Python Program to implement your own myreduce() function which works exactly like Python's built-in function reduce()"
      ]
    },
    {
      "cell_type": "code",
      "metadata": {
        "id": "ECxnP7A45Qwf"
      },
      "source": [
        "def myreduce(func,sequence):\r\n",
        "  result=sequence[0]\r\n",
        "  for i in sequence[1:]:\r\n",
        "    result=func(result,i)\r\n",
        "  return result"
      ],
      "execution_count": 4,
      "outputs": []
    },
    {
      "cell_type": "code",
      "metadata": {
        "colab": {
          "base_uri": "https://localhost:8080/"
        },
        "id": "aNasEyVh9WFo",
        "outputId": "b88ab3e5-4222-4ff6-8150-77734f00a3ed"
      },
      "source": [
        "myreduce(lambda x,y:x+y,[1,2,3,4,5])"
      ],
      "execution_count": 5,
      "outputs": [
        {
          "output_type": "execute_result",
          "data": {
            "text/plain": [
              "15"
            ]
          },
          "metadata": {
            "tags": []
          },
          "execution_count": 5
        }
      ]
    },
    {
      "cell_type": "markdown",
      "metadata": {
        "id": "awy1r7hKHSRG"
      },
      "source": [
        "2.Write a Python program to implement your own myfilter() function which works exactly like Python's built-in function filter()"
      ]
    },
    {
      "cell_type": "code",
      "metadata": {
        "id": "mrh8Lqa092HO"
      },
      "source": [
        "def myfilter(func,lst):\r\n",
        "  result=[]\r\n",
        "  for i in lst:\r\n",
        "    if func(i):\r\n",
        "      result.append(i)\r\n",
        "  return result\r\n",
        "\r\n"
      ],
      "execution_count": 6,
      "outputs": []
    },
    {
      "cell_type": "code",
      "metadata": {
        "id": "D7TBxubN_eAN"
      },
      "source": [
        "def ispositive(x):\r\n",
        " if (x <= 0): \r\n",
        "   return False \r\n",
        " else: \r\n",
        "  return True"
      ],
      "execution_count": 16,
      "outputs": []
    },
    {
      "cell_type": "code",
      "metadata": {
        "colab": {
          "base_uri": "https://localhost:8080/"
        },
        "id": "vdp0MekN_sw_",
        "outputId": "3a7f7758-d04a-4557-b99d-8d8f89a87562"
      },
      "source": [
        "myfilter(ispositive,[1,2,3,4,5])"
      ],
      "execution_count": 17,
      "outputs": [
        {
          "output_type": "stream",
          "text": [
            "False\n",
            "False\n",
            "True\n",
            "True\n",
            "True\n"
          ],
          "name": "stdout"
        },
        {
          "output_type": "execute_result",
          "data": {
            "text/plain": [
              "[]"
            ]
          },
          "metadata": {
            "tags": []
          },
          "execution_count": 17
        }
      ]
    },
    {
      "cell_type": "markdown",
      "metadata": {
        "id": "vt92_kV_B9eM"
      },
      "source": [
        "#3.Write List comprehensions to produce the following Lists\r\n",
        "['x', 'xx', 'xxx', 'xxxx', 'y', 'yy', 'yyy', 'yyyy', 'z', 'zz', 'zzz', 'zzzz']\r\n",
        "\r\n",
        "['x', 'y', 'z', 'xx', 'yy', 'zz', 'xxx', 'yyy', 'zzz', 'xxxx', 'yyyy', 'zzzz']\r\n",
        "\r\n",
        "[[2], [3], [4], [3], [4], [5], [4], [5], [6]]\r\n",
        "\r\n",
        "[[2, 3, 4, 5], [3, 4, 5, 6],[4, 5, 6, 7], [5, 6, 7, 8]]\r\n",
        "\r\n",
        "[(1, 1), (2, 1), (3, 1), (1, 2), (2, 2), (3, 2), (1, 3), (2, 3), (3, 3)]"
      ]
    },
    {
      "cell_type": "code",
      "metadata": {
        "colab": {
          "base_uri": "https://localhost:8080/"
        },
        "id": "iHbnMamsAJbw",
        "outputId": "206eafc3-5050-418b-a946-d1a83b9e12e2"
      },
      "source": [
        "#1.\r\n",
        "l1=['x','y','z']\r\n",
        "l_1=[i*j for i in l1 for j in range(1,5) ]\r\n",
        "l_1"
      ],
      "execution_count": 51,
      "outputs": [
        {
          "output_type": "execute_result",
          "data": {
            "text/plain": [
              "['x', 'xx', 'xxx', 'xxxx', 'y', 'yy', 'yyy', 'yyyy', 'z', 'zz', 'zzz', 'zzzz']"
            ]
          },
          "metadata": {
            "tags": []
          },
          "execution_count": 51
        }
      ]
    },
    {
      "cell_type": "code",
      "metadata": {
        "colab": {
          "base_uri": "https://localhost:8080/"
        },
        "id": "IDQUsKMtCqGn",
        "outputId": "cc3120bf-5eea-45aa-ad64-d127a88c8e3a"
      },
      "source": [
        "#2.\r\n",
        "l2=['x','y','z']\r\n",
        "l_2=[i*j for i in range(1,5) for j in l2]\r\n",
        "l_2"
      ],
      "execution_count": 52,
      "outputs": [
        {
          "output_type": "execute_result",
          "data": {
            "text/plain": [
              "['x', 'y', 'z', 'xx', 'yy', 'zz', 'xxx', 'yyy', 'zzz', 'xxxx', 'yyyy', 'zzzz']"
            ]
          },
          "metadata": {
            "tags": []
          },
          "execution_count": 52
        }
      ]
    },
    {
      "cell_type": "code",
      "metadata": {
        "colab": {
          "base_uri": "https://localhost:8080/"
        },
        "id": "Qnqi-5eaDiBu",
        "outputId": "3ab09dfc-5677-4a20-d842-849fb01ceb4d"
      },
      "source": [
        "#3.\r\n",
        "l3=[2,3,4]\r\n",
        "l_3=[[i+j] for i in l3 for j in range(0,3) ]\r\n",
        "l_3"
      ],
      "execution_count": 53,
      "outputs": [
        {
          "output_type": "execute_result",
          "data": {
            "text/plain": [
              "[[2], [3], [4], [3], [4], [5], [4], [5], [6]]"
            ]
          },
          "metadata": {
            "tags": []
          },
          "execution_count": 53
        }
      ]
    },
    {
      "cell_type": "code",
      "metadata": {
        "colab": {
          "base_uri": "https://localhost:8080/"
        },
        "id": "tCrJxddyFdpk",
        "outputId": "935d7413-de18-442d-98bc-aaa262bdceb4"
      },
      "source": [
        "#4\r\n",
        "l4=[2,3,4,5]\r\n",
        "l_4=[[i+j for i in range(0,4)] for j in l4]\r\n",
        "l_4"
      ],
      "execution_count": 54,
      "outputs": [
        {
          "output_type": "execute_result",
          "data": {
            "text/plain": [
              "[[2, 3, 4, 5], [3, 4, 5, 6], [4, 5, 6, 7], [5, 6, 7, 8]]"
            ]
          },
          "metadata": {
            "tags": []
          },
          "execution_count": 54
        }
      ]
    },
    {
      "cell_type": "code",
      "metadata": {
        "colab": {
          "base_uri": "https://localhost:8080/"
        },
        "id": "1xXynfXeGCdT",
        "outputId": "6c8bf3f0-ae71-4929-f2f9-e37999a09464"
      },
      "source": [
        "#5.\r\n",
        "l5=[1,2,3]\r\n",
        "l_5=[(j,i) for i in l5 for j in l5]\r\n",
        "l_5"
      ],
      "execution_count": 55,
      "outputs": [
        {
          "output_type": "execute_result",
          "data": {
            "text/plain": [
              "[(1, 1), (2, 1), (3, 1), (1, 2), (2, 2), (3, 2), (1, 3), (2, 3), (3, 3)]"
            ]
          },
          "metadata": {
            "tags": []
          },
          "execution_count": 55
        }
      ]
    },
    {
      "cell_type": "code",
      "metadata": {
        "id": "HVQek5lPHN3-"
      },
      "source": [
        ""
      ],
      "execution_count": null,
      "outputs": []
    }
  ]
}
