{
  "nbformat": 4,
  "nbformat_minor": 0,
  "metadata": {
    "colab": {
      "name": "python assignment3.ipynb",
      "provenance": [],
      "include_colab_link": true
    },
    "kernelspec": {
      "name": "python3",
      "display_name": "Python 3"
    }
  },
  "cells": [
    {
      "cell_type": "markdown",
      "metadata": {
        "id": "view-in-github",
        "colab_type": "text"
      },
      "source": [
        "<a href=\"https://colab.research.google.com/github/chandan-nagaraju/python_assignments/blob/main/python_assignment_3.ipynb\" target=\"_parent\"><img src=\"https://colab.research.google.com/assets/colab-badge.svg\" alt=\"Open In Colab\"/></a>"
      ]
    },
    {
      "cell_type": "markdown",
      "metadata": {
        "id": "m66etbs9HRqF"
      },
      "source": [
        "1.Write a Python Program to implement your own myreduce() function which works exactly like Python's built-in function reduce()"
      ]
    },
    {
      "cell_type": "code",
      "metadata": {
        "id": "ECxnP7A45Qwf"
      },
      "source": [
        "def myreduce(func,sequence):\r\n",
        "  result=sequence[0]\r\n",
        "  for i in sequence[1:]:\r\n",
        "    result=func(result,i)\r\n",
        "  return result"
      ],
      "execution_count": 8,
      "outputs": []
    },
    {
      "cell_type": "code",
      "metadata": {
        "colab": {
          "base_uri": "https://localhost:8080/"
        },
        "id": "aNasEyVh9WFo",
        "outputId": "f7b15940-6ba2-4438-9d05-2fb329cfaff4"
      },
      "source": [
        "myreduce(lambda x,y:x+y,[1,2,3,4,5])"
      ],
      "execution_count": 9,
      "outputs": [
        {
          "output_type": "execute_result",
          "data": {
            "text/plain": [
              "15"
            ]
          },
          "metadata": {
            "tags": []
          },
          "execution_count": 9
        }
      ]
    },
    {
      "cell_type": "markdown",
      "metadata": {
        "id": "awy1r7hKHSRG"
      },
      "source": [
        "2.Write a Python program to implement your own myfilter() function which works exactly like Python's built-in function filter()"
      ]
    },
    {
      "cell_type": "code",
      "metadata": {
        "id": "mrh8Lqa092HO"
      },
      "source": [
        "def myfilter(func,lst):\r\n",
        "  result=[]\r\n",
        "  for i in lst:\r\n",
        "    if func(i):\r\n",
        "      result.append(i)\r\n",
        "  return result\r\n",
        "\r\n"
      ],
      "execution_count": 10,
      "outputs": []
    },
    {
      "cell_type": "code",
      "metadata": {
        "id": "D7TBxubN_eAN"
      },
      "source": [
        "def ispositive(x):\r\n",
        " if (x <= 0): \r\n",
        "   return False \r\n",
        " else: \r\n",
        "   return True"
      ],
      "execution_count": 11,
      "outputs": []
    },
    {
      "cell_type": "code",
      "metadata": {
        "colab": {
          "base_uri": "https://localhost:8080/"
        },
        "id": "vdp0MekN_sw_",
        "outputId": "f2f34aaf-0583-46f5-f8c7-8ca61d630597"
      },
      "source": [
        "myfilter(ispositive,[-1,2,-3,4,-5])"
      ],
      "execution_count": 12,
      "outputs": [
        {
          "output_type": "execute_result",
          "data": {
            "text/plain": [
              "[2, 4]"
            ]
          },
          "metadata": {
            "tags": []
          },
          "execution_count": 12
        }
      ]
    },
    {
      "cell_type": "markdown",
      "metadata": {
        "id": "vt92_kV_B9eM"
      },
      "source": [
        "#3.Write List comprehensions to produce the following Lists\r\n",
        "['x', 'xx', 'xxx', 'xxxx', 'y', 'yy', 'yyy', 'yyyy', 'z', 'zz', 'zzz', 'zzzz']\r\n",
        "\r\n",
        "['x', 'y', 'z', 'xx', 'yy', 'zz', 'xxx', 'yyy', 'zzz', 'xxxx', 'yyyy', 'zzzz']\r\n",
        "\r\n",
        "[[2], [3], [4], [3], [4], [5], [4], [5], [6]]\r\n",
        "\r\n",
        "[[2, 3, 4, 5], [3, 4, 5, 6],[4, 5, 6, 7], [5, 6, 7, 8]]\r\n",
        "\r\n",
        "[(1, 1), (2, 1), (3, 1), (1, 2), (2, 2), (3, 2), (1, 3), (2, 3), (3, 3)]"
      ]
    },
    {
      "cell_type": "code",
      "metadata": {
        "colab": {
          "base_uri": "https://localhost:8080/"
        },
        "id": "iHbnMamsAJbw",
        "outputId": "e63bbe46-565d-4378-8025-0e38db9c6fb9"
      },
      "source": [
        "#1.\r\n",
        "l1=['x','y','z']\r\n",
        "l_1=[i*j for i in l1 for j in range(1,5) ]\r\n",
        "l_1"
      ],
      "execution_count": 13,
      "outputs": [
        {
          "output_type": "execute_result",
          "data": {
            "text/plain": [
              "['x', 'xx', 'xxx', 'xxxx', 'y', 'yy', 'yyy', 'yyyy', 'z', 'zz', 'zzz', 'zzzz']"
            ]
          },
          "metadata": {
            "tags": []
          },
          "execution_count": 13
        }
      ]
    },
    {
      "cell_type": "code",
      "metadata": {
        "colab": {
          "base_uri": "https://localhost:8080/"
        },
        "id": "IDQUsKMtCqGn",
        "outputId": "79eda386-254e-4be9-fc75-76b138e45482"
      },
      "source": [
        "#2.\r\n",
        "l2=['x','y','z']\r\n",
        "l_2=[i*j for i in range(1,5) for j in l2]\r\n",
        "l_2"
      ],
      "execution_count": 14,
      "outputs": [
        {
          "output_type": "execute_result",
          "data": {
            "text/plain": [
              "['x', 'y', 'z', 'xx', 'yy', 'zz', 'xxx', 'yyy', 'zzz', 'xxxx', 'yyyy', 'zzzz']"
            ]
          },
          "metadata": {
            "tags": []
          },
          "execution_count": 14
        }
      ]
    },
    {
      "cell_type": "code",
      "metadata": {
        "colab": {
          "base_uri": "https://localhost:8080/"
        },
        "id": "Qnqi-5eaDiBu",
        "outputId": "a599f447-6c78-444a-ba7a-2ba26787fbf2"
      },
      "source": [
        "#3.\r\n",
        "l3=[2,3,4]\r\n",
        "l_3=[[i+j] for i in l3 for j in range(0,3) ]\r\n",
        "l_3"
      ],
      "execution_count": 15,
      "outputs": [
        {
          "output_type": "execute_result",
          "data": {
            "text/plain": [
              "[[2], [3], [4], [3], [4], [5], [4], [5], [6]]"
            ]
          },
          "metadata": {
            "tags": []
          },
          "execution_count": 15
        }
      ]
    },
    {
      "cell_type": "code",
      "metadata": {
        "colab": {
          "base_uri": "https://localhost:8080/"
        },
        "id": "tCrJxddyFdpk",
        "outputId": "629f5c94-2d36-4c2e-ab5e-b0b32ebca239"
      },
      "source": [
        "#4\r\n",
        "l4=[2,3,4,5]\r\n",
        "l_4=[[i+j for i in range(0,4)] for j in l4]\r\n",
        "l_4"
      ],
      "execution_count": 16,
      "outputs": [
        {
          "output_type": "execute_result",
          "data": {
            "text/plain": [
              "[[2, 3, 4, 5], [3, 4, 5, 6], [4, 5, 6, 7], [5, 6, 7, 8]]"
            ]
          },
          "metadata": {
            "tags": []
          },
          "execution_count": 16
        }
      ]
    },
    {
      "cell_type": "code",
      "metadata": {
        "colab": {
          "base_uri": "https://localhost:8080/"
        },
        "id": "1xXynfXeGCdT",
        "outputId": "f012b418-f88e-459c-a75d-6a58bb58d0bd"
      },
      "source": [
        "#5.\r\n",
        "l5=[1,2,3]\r\n",
        "l_5=[(j,i) for i in l5 for j in l5]\r\n",
        "l_5"
      ],
      "execution_count": 17,
      "outputs": [
        {
          "output_type": "execute_result",
          "data": {
            "text/plain": [
              "[(1, 1), (2, 1), (3, 1), (1, 2), (2, 2), (3, 2), (1, 3), (2, 3), (3, 3)]"
            ]
          },
          "metadata": {
            "tags": []
          },
          "execution_count": 17
        }
      ]
    },
    {
      "cell_type": "code",
      "metadata": {
        "id": "HVQek5lPHN3-"
      },
      "source": [
        ""
      ],
      "execution_count": 17,
      "outputs": []
    }
  ]
}