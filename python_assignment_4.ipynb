{
  "nbformat": 4,
  "nbformat_minor": 0,
  "metadata": {
    "colab": {
      "name": "python_assignment_4.ipynb",
      "provenance": [],
      "authorship_tag": "ABX9TyMyvZoK+0IO0I/XxYDchw8s",
      "include_colab_link": true
    },
    "kernelspec": {
      "name": "python3",
      "display_name": "Python 3"
    }
  },
  "cells": [
    {
      "cell_type": "markdown",
      "metadata": {
        "id": "view-in-github",
        "colab_type": "text"
      },
      "source": [
        "<a href=\"https://colab.research.google.com/github/chandan-nagaraju/python_assignments/blob/main/python_assignment_4.ipynb\" target=\"_parent\"><img src=\"https://colab.research.google.com/assets/colab-badge.svg\" alt=\"Open In Colab\"/></a>"
      ]
    },
    {
      "cell_type": "markdown",
      "metadata": {
        "id": "JSLoUBHYsXaJ"
      },
      "source": [
        "Write a Python Program(with class concepts) to find the area of the triangle using the below formula.\r\n",
        "area = (s*(s-a)*(s-b)*(s-c)) ** 0.5"
      ]
    },
    {
      "cell_type": "code",
      "metadata": {
        "colab": {
          "base_uri": "https://localhost:8080/"
        },
        "id": "Z3UQJ-K_VQ7K",
        "outputId": "d642d075-5c13-4e59-9449-288747817509"
      },
      "source": [
        "class sides:\r\n",
        "    def __init__(self,a,b,c):\r\n",
        "        self.a=a\r\n",
        "        self.b=b\r\n",
        "        self.c=c\r\n",
        "a=float(input(\"a=\"))\r\n",
        "b=float(input(\"b=\"))\r\n",
        "c=float(input(\"c=\"))"
      ],
      "execution_count": 12,
      "outputs": [
        {
          "output_type": "stream",
          "text": [
            "a=12\n",
            "b=13\n",
            "c=14\n"
          ],
          "name": "stdout"
        }
      ]
    },
    {
      "cell_type": "code",
      "metadata": {
        "id": "vLmqr680VX7O"
      },
      "source": [
        "class area_of_triangle(sides):\r\n",
        "    def area(self):\r\n",
        "        s=(self.a+self.b+self.c)/2\r\n",
        "        return float((s * (s - self.a) * (s - self.b) * (s - self.c))) ** 0.5"
      ],
      "execution_count": 13,
      "outputs": []
    },
    {
      "cell_type": "code",
      "metadata": {
        "id": "rtM5f_c5VcIM"
      },
      "source": [
        "t=area_of_triangle(a,b,c)"
      ],
      "execution_count": 14,
      "outputs": []
    },
    {
      "cell_type": "code",
      "metadata": {
        "colab": {
          "base_uri": "https://localhost:8080/"
        },
        "id": "PLzQBlPvVkyD",
        "outputId": "0ac5e76f-7c38-4214-e49b-08af1ffd460b"
      },
      "source": [
        "t.area()"
      ],
      "execution_count": 15,
      "outputs": [
        {
          "output_type": "execute_result",
          "data": {
            "text/plain": [
              "72.30793524918272"
            ]
          },
          "metadata": {
            "tags": []
          },
          "execution_count": 15
        }
      ]
    },
    {
      "cell_type": "markdown",
      "metadata": {
        "id": "vzOeRLXBXuTI"
      },
      "source": [
        "2.Write a function filter_long_words() that takes a list of words and an integer n and returns the list of words that are longer than n."
      ]
    },
    {
      "cell_type": "code",
      "metadata": {
        "id": "SXOYNkItWPmO"
      },
      "source": [
        "def filter_long_words(words,n):\r\n",
        "  return [word for  word in words if len(word)>n]"
      ],
      "execution_count": 20,
      "outputs": []
    },
    {
      "cell_type": "code",
      "metadata": {
        "colab": {
          "base_uri": "https://localhost:8080/"
        },
        "id": "UqXRdjPuX_Z-",
        "outputId": "48cf90a1-ae04-4daa-f037-303ec52a5850"
      },
      "source": [
        "filter_long_words(['elephant','sachin','chandan'],6)"
      ],
      "execution_count": 21,
      "outputs": [
        {
          "output_type": "execute_result",
          "data": {
            "text/plain": [
              "['elephant', 'chandan']"
            ]
          },
          "metadata": {
            "tags": []
          },
          "execution_count": 21
        }
      ]
    },
    {
      "cell_type": "markdown",
      "metadata": {
        "id": "eQvj43KzYxpR"
      },
      "source": [
        "3.Write a Python program using function concept that maps list of words into a list of integers representing the lengths of the corresponding words.\r\n",
        "\r\n",
        "Hint: If a list [ ab,cde,erty] is passed on to the python function output should come as [2,3,4] Here 2,3 and 4 are the lengths of the words in the list."
      ]
    },
    {
      "cell_type": "code",
      "metadata": {
        "id": "Oi4szew2YLTk"
      },
      "source": [
        "def maps_word_to_integers(words):\r\n",
        "  return [len(word) for word in words]"
      ],
      "execution_count": 45,
      "outputs": []
    },
    {
      "cell_type": "code",
      "metadata": {
        "colab": {
          "base_uri": "https://localhost:8080/"
        },
        "id": "4xYl93nmZW30",
        "outputId": "042ac244-cd52-45be-8ff1-4c47998fb0b7"
      },
      "source": [
        "maps_word_to_integers(['elephant','sachin','chandan'])"
      ],
      "execution_count": 46,
      "outputs": [
        {
          "output_type": "execute_result",
          "data": {
            "text/plain": [
              "[8, 6, 7]"
            ]
          },
          "metadata": {
            "tags": []
          },
          "execution_count": 46
        }
      ]
    },
    {
      "cell_type": "markdown",
      "metadata": {
        "id": "fUVGHR7xaTo6"
      },
      "source": [
        "4.Write a Python function which takes a character (i.e. a string of length 1) and returns True if it is a vowel, False otherwise."
      ]
    },
    {
      "cell_type": "code",
      "metadata": {
        "id": "BplZWeFyai7_"
      },
      "source": [
        "def vowel(word):\r\n",
        "  return word.lower() in 'aeiou'\r\n",
        "    "
      ],
      "execution_count": 47,
      "outputs": []
    },
    {
      "cell_type": "code",
      "metadata": {
        "colab": {
          "base_uri": "https://localhost:8080/"
        },
        "id": "wFmofiogZnwv",
        "outputId": "cd9fe731-42e3-40dc-c979-a5ee45b5ef15"
      },
      "source": [
        "vowel('b')"
      ],
      "execution_count": 48,
      "outputs": [
        {
          "output_type": "execute_result",
          "data": {
            "text/plain": [
              "False"
            ]
          },
          "metadata": {
            "tags": []
          },
          "execution_count": 48
        }
      ]
    },
    {
      "cell_type": "code",
      "metadata": {
        "colab": {
          "base_uri": "https://localhost:8080/"
        },
        "id": "Fr0GFhJ5e-i7",
        "outputId": "270eacf5-a61c-4a4f-fac5-078d0416f0e5"
      },
      "source": [
        "vowel('I')"
      ],
      "execution_count": 49,
      "outputs": [
        {
          "output_type": "execute_result",
          "data": {
            "text/plain": [
              "True"
            ]
          },
          "metadata": {
            "tags": []
          },
          "execution_count": 49
        }
      ]
    },
    {
      "cell_type": "code",
      "metadata": {
        "colab": {
          "base_uri": "https://localhost:8080/"
        },
        "id": "W9Pvhu3pr6Xs",
        "outputId": "958f0a61-08a2-4afc-89b9-5e17e278ee1a"
      },
      "source": [
        "vowel('J')"
      ],
      "execution_count": 50,
      "outputs": [
        {
          "output_type": "execute_result",
          "data": {
            "text/plain": [
              "False"
            ]
          },
          "metadata": {
            "tags": []
          },
          "execution_count": 50
        }
      ]
    },
    {
      "cell_type": "code",
      "metadata": {
        "id": "H3u6_B9QsLdu"
      },
      "source": [
        ""
      ],
      "execution_count": null,
      "outputs": []
    }
  ]
}